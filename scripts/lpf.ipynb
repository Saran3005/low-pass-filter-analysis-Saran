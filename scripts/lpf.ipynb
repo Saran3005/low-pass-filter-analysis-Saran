{
 "cells": [
  {
   "cell_type": "code",
   "execution_count": 1,
   "id": "f7526e09",
   "metadata": {},
   "outputs": [],
   "source": [
    "import pandas as pd\n",
    "import matplotlib.pyplot as plt"
   ]
  },
  {
   "cell_type": "code",
   "execution_count": 2,
   "id": "b5493d86",
   "metadata": {},
   "outputs": [
    {
     "data": {
      "application/vnd.microsoft.datawrangler.viewer.v0+json": {
       "columns": [
        {
         "name": "index",
         "rawType": "int64",
         "type": "integer"
        },
        {
         "name": "InputFreq",
         "rawType": "int64",
         "type": "integer"
        },
        {
         "name": "InputAmp",
         "rawType": "int64",
         "type": "integer"
        },
        {
         "name": "OutputAmpx2",
         "rawType": "float64",
         "type": "float"
        },
        {
         "name": "OuputAmp",
         "rawType": "float64",
         "type": "float"
        },
        {
         "name": "Gain in db",
         "rawType": "float64",
         "type": "float"
        }
       ],
       "ref": "49c6c95c-fdb2-4c3f-8798-fb3f597c1846",
       "rows": [
        [
         "0",
         "10",
         "1",
         "1.921",
         "0.9605",
         "-0.35005261604575066"
        ],
        [
         "1",
         "20",
         "1",
         "1.7166",
         "0.8583",
         "-1.327217749501499"
        ],
        [
         "2",
         "30",
         "1",
         "1.4986",
         "0.7493",
         "-2.5068853480379794"
        ],
        [
         "3",
         "35",
         "1",
         "1.3828",
         "0.6914",
         "-3.2054124958722396"
        ],
        [
         "4",
         "50",
         "1",
         "1.1308",
         "0.5654",
         "-4.952883916929984"
        ],
        [
         "5",
         "100",
         "1",
         "0.653",
         "0.3265",
         "-9.722336287778145"
        ],
        [
         "6",
         "500",
         "1",
         "0.14714",
         "0.07357",
         "-22.665984879150017"
        ],
        [
         "7",
         "1000",
         "1",
         "0.07766",
         "0.03883",
         "-28.216652189079046"
        ],
        [
         "8",
         "2000",
         "1",
         "0.04087",
         "0.020435",
         "-33.79250715904775"
        ],
        [
         "9",
         "5000",
         "1",
         "0.01608",
         "0.00804",
         "-41.894879025030974"
        ],
        [
         "10",
         "10000",
         "1",
         "0.00845",
         "0.004225",
         "-47.48346573428578"
        ]
       ],
       "shape": {
        "columns": 5,
        "rows": 11
       }
      },
      "text/html": [
       "<div>\n",
       "<style scoped>\n",
       "    .dataframe tbody tr th:only-of-type {\n",
       "        vertical-align: middle;\n",
       "    }\n",
       "\n",
       "    .dataframe tbody tr th {\n",
       "        vertical-align: top;\n",
       "    }\n",
       "\n",
       "    .dataframe thead th {\n",
       "        text-align: right;\n",
       "    }\n",
       "</style>\n",
       "<table border=\"1\" class=\"dataframe\">\n",
       "  <thead>\n",
       "    <tr style=\"text-align: right;\">\n",
       "      <th></th>\n",
       "      <th>InputFreq</th>\n",
       "      <th>InputAmp</th>\n",
       "      <th>OutputAmpx2</th>\n",
       "      <th>OuputAmp</th>\n",
       "      <th>Gain in db</th>\n",
       "    </tr>\n",
       "  </thead>\n",
       "  <tbody>\n",
       "    <tr>\n",
       "      <th>0</th>\n",
       "      <td>10</td>\n",
       "      <td>1</td>\n",
       "      <td>1.92100</td>\n",
       "      <td>0.960500</td>\n",
       "      <td>-0.350053</td>\n",
       "    </tr>\n",
       "    <tr>\n",
       "      <th>1</th>\n",
       "      <td>20</td>\n",
       "      <td>1</td>\n",
       "      <td>1.71660</td>\n",
       "      <td>0.858300</td>\n",
       "      <td>-1.327218</td>\n",
       "    </tr>\n",
       "    <tr>\n",
       "      <th>2</th>\n",
       "      <td>30</td>\n",
       "      <td>1</td>\n",
       "      <td>1.49860</td>\n",
       "      <td>0.749300</td>\n",
       "      <td>-2.506885</td>\n",
       "    </tr>\n",
       "    <tr>\n",
       "      <th>3</th>\n",
       "      <td>35</td>\n",
       "      <td>1</td>\n",
       "      <td>1.38280</td>\n",
       "      <td>0.691400</td>\n",
       "      <td>-3.205412</td>\n",
       "    </tr>\n",
       "    <tr>\n",
       "      <th>4</th>\n",
       "      <td>50</td>\n",
       "      <td>1</td>\n",
       "      <td>1.13080</td>\n",
       "      <td>0.565400</td>\n",
       "      <td>-4.952884</td>\n",
       "    </tr>\n",
       "    <tr>\n",
       "      <th>5</th>\n",
       "      <td>100</td>\n",
       "      <td>1</td>\n",
       "      <td>0.65300</td>\n",
       "      <td>0.326500</td>\n",
       "      <td>-9.722336</td>\n",
       "    </tr>\n",
       "    <tr>\n",
       "      <th>6</th>\n",
       "      <td>500</td>\n",
       "      <td>1</td>\n",
       "      <td>0.14714</td>\n",
       "      <td>0.073570</td>\n",
       "      <td>-22.665985</td>\n",
       "    </tr>\n",
       "    <tr>\n",
       "      <th>7</th>\n",
       "      <td>1000</td>\n",
       "      <td>1</td>\n",
       "      <td>0.07766</td>\n",
       "      <td>0.038830</td>\n",
       "      <td>-28.216652</td>\n",
       "    </tr>\n",
       "    <tr>\n",
       "      <th>8</th>\n",
       "      <td>2000</td>\n",
       "      <td>1</td>\n",
       "      <td>0.04087</td>\n",
       "      <td>0.020435</td>\n",
       "      <td>-33.792507</td>\n",
       "    </tr>\n",
       "    <tr>\n",
       "      <th>9</th>\n",
       "      <td>5000</td>\n",
       "      <td>1</td>\n",
       "      <td>0.01608</td>\n",
       "      <td>0.008040</td>\n",
       "      <td>-41.894879</td>\n",
       "    </tr>\n",
       "    <tr>\n",
       "      <th>10</th>\n",
       "      <td>10000</td>\n",
       "      <td>1</td>\n",
       "      <td>0.00845</td>\n",
       "      <td>0.004225</td>\n",
       "      <td>-47.483466</td>\n",
       "    </tr>\n",
       "  </tbody>\n",
       "</table>\n",
       "</div>"
      ],
      "text/plain": [
       "    InputFreq  InputAmp  OutputAmpx2  OuputAmp  Gain in db\n",
       "0          10         1      1.92100  0.960500   -0.350053\n",
       "1          20         1      1.71660  0.858300   -1.327218\n",
       "2          30         1      1.49860  0.749300   -2.506885\n",
       "3          35         1      1.38280  0.691400   -3.205412\n",
       "4          50         1      1.13080  0.565400   -4.952884\n",
       "5         100         1      0.65300  0.326500   -9.722336\n",
       "6         500         1      0.14714  0.073570  -22.665985\n",
       "7        1000         1      0.07766  0.038830  -28.216652\n",
       "8        2000         1      0.04087  0.020435  -33.792507\n",
       "9        5000         1      0.01608  0.008040  -41.894879\n",
       "10      10000         1      0.00845  0.004225  -47.483466"
      ]
     },
     "execution_count": 2,
     "metadata": {},
     "output_type": "execute_result"
    }
   ],
   "source": [
    "df=pd.read_excel(\"datacollection_lowpassfilter.xlsx\")\n",
    "df"
   ]
  },
  {
   "cell_type": "code",
   "execution_count": 3,
   "id": "63eef9cf",
   "metadata": {},
   "outputs": [
    {
     "data": {
      "text/plain": [
       "Text(0.5, 1.0, 'Gain vs Freq - Low Pass Filter')"
      ]
     },
     "execution_count": 3,
     "metadata": {},
     "output_type": "execute_result"
    },
    {
     "data": {
      "image/png": "[encoded data removed]",
      "text/plain": [
       "<Figure size 432x288 with 1 Axes>"
      ]
     },
     "metadata": {
      "needs_background": "light"
     },
     "output_type": "display_data"
    }
   ],
   "source": [
    "plt.plot(df[\"InputFreq\"],df[\"Gain in db\"])\n",
    "plt.xscale(\"log\")\n",
    "plt.xlabel(\"Frequency in Hz\")\n",
    "plt.ylabel(\"Gain in db\")\n",
    "plt.title(\"Gain vs Freq - Low Pass Filter\")"
   ]
  },
  {
   "cell_type": "code",
   "execution_count": null,
   "id": "e42ef33d",
   "metadata": {},
   "outputs": [],
   "source": []
  }
 ],
 "metadata": {
  "kernelspec": {
   "display_name": "base",
   "language": "python",
   "name": "python3"
  },
  "language_info": {
   "codemirror_mode": {
    "name": "ipython",
    "version": 3
   },
   "file_extension": ".py",
   "mimetype": "text/x-python",
   "name": "python",
   "nbconvert_exporter": "python",
   "pygments_lexer": "ipython3",
   "version": "3.9.12"
  }
 },
 "nbformat": 4,
 "nbformat_minor": 5
}

{
 "cells": [
  {
   "cell_type": "code",
   "execution_count": 2,
   "id": "f7526e09",
   "metadata": {},
   "outputs": [],
   "source": [
    "import pandas as pd\n",
    "import matplotlib.pyplot as plt"
   ]
  },
  {
   "cell_type": "code",
   "execution_count": 3,
   "id": "b5493d86",
   "metadata": {},
   "outputs": [
    {
     "data": {
      "application/vnd.microsoft.datawrangler.viewer.v0+json": {
       "columns": [
        {
         "name": "index",
         "rawType": "int64",
         "type": "integer"
        },
        {
         "name": "InputFreq",
         "rawType": "int64",
         "type": "integer"
        },
        {
         "name": "InputAmp",
         "rawType": "int64",
         "type": "integer"
        },
        {
         "name": "OutputAmpx2",
         "rawType": "float64",
         "type": "float"
        },
        {
         "name": "OuputAmp",
         "rawType": "float64",
         "type": "float"
        },
        {
         "name": "Gain in db",
         "rawType": "float64",
         "type": "float"
        }
       ],
       "ref": "09730c0a-271b-4396-8728-731518a290e2",
       "rows": [
        [
         "0",
         "10",
         "1",
         "1.921",
         "0.9605",
         "-0.35005261604575066"
        ],
        [
         "1",
         "20",
         "1",
         "1.7166",
         "0.8583",
         "-1.327217749501499"
        ],
        [
         "2",
         "30",
         "1",
         "1.4986",
         "0.7493",
         "-2.5068853480379794"
        ],
        [
         "3",
         "35",
         "1",
         "1.3828",
         "0.6914",
         "-3.2054124958722396"
        ],
        [
         "4",
         "50",
         "1",
         "1.1308",
         "0.5654",
         "-4.952883916929984"
        ],
        [
         "5",
         "100",
         "1",
         "0.653",
         "0.3265",
         "-9.722336287778145"
        ],
        [
         "6",
         "500",
         "1",
         "0.14714",
         "0.07357",
         "-22.665984879150017"
        ],
        [
         "7",
         "1000",
         "1",
         "0.07766",
         "0.03883",
         "-28.216652189079046"
        ],
        [
         "8",
         "2000",
         "1",
         "0.04087",
         "0.020435",
         "-33.79250715904775"
        ],
        [
         "9",
         "5000",
         "1",
         "0.01608",
         "0.00804",
         "-41.894879025030974"
        ],
        [
         "10",
         "10000",
         "1",
         "0.00845",
         "0.004225",
         "-47.48346573428578"
        ]
       ],
       "shape": {
        "columns": 5,
        "rows": 11
       }
      },
      "text/html": [
       "<div>\n",
       "<style scoped>\n",
       "    .dataframe tbody tr th:only-of-type {\n",
       "        vertical-align: middle;\n",
       "    }\n",
       "\n",
       "    .dataframe tbody tr th {\n",
       "        vertical-align: top;\n",
       "    }\n",
       "\n",
       "    .dataframe thead th {\n",
       "        text-align: right;\n",
       "    }\n",
       "</style>\n",
       "<table border=\"1\" class=\"dataframe\">\n",
       "  <thead>\n",
       "    <tr style=\"text-align: right;\">\n",
       "      <th></th>\n",
       "      <th>InputFreq</th>\n",
       "      <th>InputAmp</th>\n",
       "      <th>OutputAmpx2</th>\n",
       "      <th>OuputAmp</th>\n",
       "      <th>Gain in db</th>\n",
       "    </tr>\n",
       "  </thead>\n",
       "  <tbody>\n",
       "    <tr>\n",
       "      <th>0</th>\n",
       "      <td>10</td>\n",
       "      <td>1</td>\n",
       "      <td>1.92100</td>\n",
       "      <td>0.960500</td>\n",
       "      <td>-0.350053</td>\n",
       "    </tr>\n",
       "    <tr>\n",
       "      <th>1</th>\n",
       "      <td>20</td>\n",
       "      <td>1</td>\n",
       "      <td>1.71660</td>\n",
       "      <td>0.858300</td>\n",
       "      <td>-1.327218</td>\n",
       "    </tr>\n",
       "    <tr>\n",
       "      <th>2</th>\n",
       "      <td>30</td>\n",
       "      <td>1</td>\n",
       "      <td>1.49860</td>\n",
       "      <td>0.749300</td>\n",
       "      <td>-2.506885</td>\n",
       "    </tr>\n",
       "    <tr>\n",
       "      <th>3</th>\n",
       "      <td>35</td>\n",
       "      <td>1</td>\n",
       "      <td>1.38280</td>\n",
       "      <td>0.691400</td>\n",
       "      <td>-3.205412</td>\n",
       "    </tr>\n",
       "    <tr>\n",
       "      <th>4</th>\n",
       "      <td>50</td>\n",
       "      <td>1</td>\n",
       "      <td>1.13080</td>\n",
       "      <td>0.565400</td>\n",
       "      <td>-4.952884</td>\n",
       "    </tr>\n",
       "    <tr>\n",
       "      <th>5</th>\n",
       "      <td>100</td>\n",
       "      <td>1</td>\n",
       "      <td>0.65300</td>\n",
       "      <td>0.326500</td>\n",
       "      <td>-9.722336</td>\n",
       "    </tr>\n",
       "    <tr>\n",
       "      <th>6</th>\n",
       "      <td>500</td>\n",
       "      <td>1</td>\n",
       "      <td>0.14714</td>\n",
       "      <td>0.073570</td>\n",
       "      <td>-22.665985</td>\n",
       "    </tr>\n",
       "    <tr>\n",
       "      <th>7</th>\n",
       "      <td>1000</td>\n",
       "      <td>1</td>\n",
       "      <td>0.07766</td>\n",
       "      <td>0.038830</td>\n",
       "      <td>-28.216652</td>\n",
       "    </tr>\n",
       "    <tr>\n",
       "      <th>8</th>\n",
       "      <td>2000</td>\n",
       "      <td>1</td>\n",
       "      <td>0.04087</td>\n",
       "      <td>0.020435</td>\n",
       "      <td>-33.792507</td>\n",
       "    </tr>\n",
       "    <tr>\n",
       "      <th>9</th>\n",
       "      <td>5000</td>\n",
       "      <td>1</td>\n",
       "      <td>0.01608</td>\n",
       "      <td>0.008040</td>\n",
       "      <td>-41.894879</td>\n",
       "    </tr>\n",
       "    <tr>\n",
       "      <th>10</th>\n",
       "      <td>10000</td>\n",
       "      <td>1</td>\n",
       "      <td>0.00845</td>\n",
       "      <td>0.004225</td>\n",
       "      <td>-47.483466</td>\n",
       "    </tr>\n",
       "  </tbody>\n",
       "</table>\n",
       "</div>"
      ],
      "text/plain": [
       "    InputFreq  InputAmp  OutputAmpx2  OuputAmp  Gain in db\n",
       "0          10         1      1.92100  0.960500   -0.350053\n",
       "1          20         1      1.71660  0.858300   -1.327218\n",
       "2          30         1      1.49860  0.749300   -2.506885\n",
       "3          35         1      1.38280  0.691400   -3.205412\n",
       "4          50         1      1.13080  0.565400   -4.952884\n",
       "5         100         1      0.65300  0.326500   -9.722336\n",
       "6         500         1      0.14714  0.073570  -22.665985\n",
       "7        1000         1      0.07766  0.038830  -28.216652\n",
       "8        2000         1      0.04087  0.020435  -33.792507\n",
       "9        5000         1      0.01608  0.008040  -41.894879\n",
       "10      10000         1      0.00845  0.004225  -47.483466"
      ]
     },
     "execution_count": 3,
     "metadata": {},
     "output_type": "execute_result"
    }
   ],
   "source": [
    "df=pd.read_excel(\"E:\\Mosart Labs\\ICMeasurementsAssignment\\data\\datacollection_lowpassfilter.xlsx\")\n",
    "df"
   ]
  },
  {
   "cell_type": "code",
   "execution_count": null,
   "id": "63eef9cf",
   "metadata": {},
   "outputs": [
    {
     "data": {
      "text/plain": [
       "<function matplotlib.pyplot.legend(*args, **kwargs)>"
      ]
     },
     "execution_count": 6,
     "metadata": {},
     "output_type": "execute_result"
    },
    {
     "data": {
      "image/png": "[encoded data removed]",
      "text/plain": [
       "<Figure size 432x288 with 1 Axes>"
      ]
     },
     "metadata": {
      "needs_background": "light"
     },
     "output_type": "display_data"
    }
   ],
   "source": [
    "plt.plot(df[\"InputFreq\"],df[\"Gain in db\"])\n",
    "plt.xscale(\"log\")\n",
    "plt.xlabel(\"Frequency in Hz\")\n",
    "plt.ylabel(\"Gain in db\")\n",
    "plt.title(\"Gain vs Freq - Low Pass Filter\")\n",
    "plt.grid()"
   ]
  },
  {
   "cell_type": "code",
   "execution_count": null,
   "id": "e42ef33d",
   "metadata": {},
   "outputs": [
    {
     "name": "stdout",
     "output_type": "stream",
     "text": [
      "DWF Version:  b'3.24.4'\n",
      "Number of devices found: 15\n",
      "Detected device: Analog Discovery 3\n",
      "Demo device opened successfully!\n",
      "Generating sine wave...\n",
      "Starting oscilloscope\n",
      "Recording done\n"
     ]
    },
    {
     "data": {
      "text/plain": [
       "[<matplotlib.lines.Line2D at 0x1cb2c413490>]"
      ]
     },
     "execution_count": 14,
     "metadata": {},
     "output_type": "execute_result"
    },
    {
     "data": {
      "image/png": "[encoded data removed]",
      "text/plain": [
       "<Figure size 432x288 with 1 Axes>"
      ]
     },
     "metadata": {
      "needs_background": "light"
     },
     "output_type": "display_data"
    }
   ],
   "source": [
    "# Import libraries\n",
    "from ctypes import *\n",
    "from dwfconstants import *\n",
    "from sys import platform, path\n",
    "import os\n",
    "import math\n",
    "import time\n",
    "import matplotlib.pyplot as plt\n",
    "import sys\n",
    "import numpy\n",
    "\n",
    "#declare ctype variables\n",
    "hdwf = c_int()\n",
    "sts = c_byte()\n",
    "cAvailable = c_int()\n",
    "cLost = c_int()\n",
    "cCorrupted = c_int()\n",
    "fLost = 0\n",
    "fCorrupted = 0\n",
    "\n",
    "\n",
    "#Import dwfconstants.py\n",
    "dwf = cdll.dwf\n",
    "constants_path = \"C:/Program Files (x86)/Digilent/WaveFormsSDK/samples/python\"\n",
    "path.append(constants_path)\n",
    "from dwfconstants import *\n",
    "\n",
    "#declare ctype variables\n",
    "hdwf = c_int()\n",
    "sts = c_byte()\n",
    "rgdSamples = (c_double*4000)()\n",
    "\n",
    "#Fetching DWF version\n",
    "version = create_string_buffer(16)\n",
    "dwf.FDwfGetVersion(version)\n",
    "print(\"DWF Version: \",version.value)\n",
    "\n",
    "#Enumerate devices and print count\n",
    "filter_flags = c_int(enumfilterType.value | enumfilterDemo.value)\n",
    "device_count = c_int()\n",
    "dwf.FDwfEnum(filter_flags, byref(device_count))\n",
    "print(f\"Number of devices found: {device_count.value}\")\n",
    "\n",
    "#Get device name\n",
    "name_buf = create_string_buffer(64)\n",
    "dwf.FDwfEnumDeviceName(c_int(0), name_buf)\n",
    "print(f\"Detected device: {name_buf.value.decode()}\")\n",
    "\n",
    "#Connect demo device\n",
    "hdwf = c_int()\n",
    "dwf.FDwfDeviceOpen(c_int(0), byref(hdwf))\n",
    "if hdwf.value == 0:\n",
    "    raise RuntimeError(\"Demo device not available.\")\n",
    "print(\"Demo device opened successfully!\")\n",
    "\n",
    "dwf.FDwfDeviceAutoConfigureSet(hdwf, c_int(0)) # 0 = the device will only be configured when FDwf###Configure is called\n",
    "\n",
    "\n",
    "# Waveform generation\n",
    "print(\"Generating sine wave...\")\n",
    "dwf.FDwfAnalogOutNodeEnableSet(hdwf, c_int(0), AnalogOutNodeCarrier, c_int(1))\n",
    "dwf.FDwfAnalogOutNodeFunctionSet(hdwf, c_int(0), AnalogOutNodeCarrier, funcSine)\n",
    "dwf.FDwfAnalogOutNodeFrequencySet(hdwf, c_int(0), AnalogOutNodeCarrier, c_double(10e03))\n",
    "dwf.FDwfAnalogOutNodeAmplitudeSet(hdwf, c_int(0), AnalogOutNodeCarrier, c_double(1))\n",
    "dwf.FDwfAnalogOutConfigure(hdwf, c_int(0), c_int(1))\n",
    "\n",
    "# Oscilloscope\n",
    "sampling_frequency = 100e03\n",
    "buffer_size = 100\n",
    "amplitude_range = 10\n",
    "offset =0\n",
    "sts = c_byte()\n",
    "rgdSamples = (c_double*c_int(buffer_size).value)()\n",
    "\n",
    "dwf.FDwfAnalogInChannelEnableSet(hdwf, c_int(0), c_bool(True))\n",
    "dwf.FDwfAnalogInChannelOffsetSet(hdwf, c_int(0), c_double(offset))\n",
    "dwf.FDwfAnalogInChannelRangeSet(hdwf, c_int(0), c_double(amplitude_range))\n",
    "dwf.FDwfAnalogInAcquisitionModeSet(hdwf, acqmodeRecord)\n",
    "dwf.FDwfAnalogInRecordLengthSet(hdwf, c_double(buffer_size/sampling_frequency))\n",
    "dwf.FDwfAnalogInBufferSizeSet(hdwf, c_int(buffer_size))\n",
    "dwf.FDwfAnalogInFrequencySet(hdwf, c_double(sampling_frequency))\n",
    "dwf.FDwfAnalogInChannelFilterSet(hdwf, c_int(-1), filterDecimate)\n",
    "\n",
    "time.sleep(2)\n",
    "\n",
    "print(\"Starting oscilloscope\")\n",
    "dwf.FDwfAnalogInConfigure(hdwf, c_int(1), c_int(1))\n",
    "\n",
    "cSamples = 0\n",
    "\n",
    "while cSamples < buffer_size:\n",
    "    dwf.FDwfAnalogInStatus(hdwf, c_int(1), byref(sts))\n",
    "    if cSamples == 0 and (sts == DwfStateConfig or sts == DwfStatePrefill or sts == DwfStateArmed) :\n",
    "        # Acquisition not yet started.\n",
    "        continue\n",
    "\n",
    "    dwf.FDwfAnalogInStatusRecord(hdwf, byref(cAvailable), byref(cLost), byref(cCorrupted))\n",
    "    \n",
    "    cSamples += cLost.value\n",
    "\n",
    "    if cLost.value :\n",
    "        fLost = 1\n",
    "    if cCorrupted.value :\n",
    "        fCorrupted = 1\n",
    "\n",
    "    if cAvailable.value==0 :\n",
    "        continue\n",
    "\n",
    "    if cSamples+cAvailable.value > buffer_size :\n",
    "        cAvailable = c_int(buffer_size-cSamples)\n",
    "    \n",
    "    dwf.FDwfAnalogInStatusData(hdwf, c_int(0), byref(rgdSamples, sizeof(c_double)*cSamples), cAvailable) # get channel 1 data\n",
    "    #dwf.FDwfAnalogInStatusData(hdwf, c_int(1), byref(rgdSamples, sizeof(c_double)*cSamples), cAvailable) # get channel 2 data\n",
    "    cSamples += cAvailable.value\n",
    "\n",
    "dwf.FDwfAnalogOutReset(hdwf, c_int(0))\n",
    "dwf.FDwfDeviceCloseAll()\n",
    "\n",
    "print(\"Recording done\")\n",
    "if fLost:\n",
    "    print(\"Samples were lost! Reduce frequency\")\n",
    "if fCorrupted:\n",
    "    print(\"Samples could be corrupted! Reduce frequency\")\n",
    "\n",
    "f = open(\"{}+record.csv\", \"w\")\n",
    "for v in rgdSamples:\n",
    "    f.write(\"%s\\n\" % v)\n",
    "f.close()\n",
    "  \n",
    "#plt.subplot(2,1,1)\n",
    "\n",
    "plt.plot(numpy.fromiter(rgdSamples, dtype = float))\n",
    "#plt.subplot(2,1,2)\n",
    "#plt.specgram(numpy.fromiter(rgdSamples, dtype = float), Fs=sampling_frequency)\n",
    "#plt.show()\n",
    "#plt.legend()"
   ]
  },
  {
   "cell_type": "code",
   "execution_count": null,
   "id": "202e926d",
   "metadata": {},
   "outputs": [],
   "source": []
  }
 ],
 "metadata": {
  "kernelspec": {
   "display_name": "base",
   "language": "python",
   "name": "python3"
  },
  "language_info": {
   "codemirror_mode": {
    "name": "ipython",
    "version": 3
   },
   "file_extension": ".py",
   "mimetype": "text/x-python",
   "name": "python",
   "nbconvert_exporter": "python",
   "pygments_lexer": "ipython3",
   "version": "3.9.12"
  }
 },
 "nbformat": 4,
 "nbformat_minor": 5
}
